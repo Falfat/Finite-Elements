{
 "cells": [
  {
   "cell_type": "markdown",
   "metadata": {
    "slideshow": {
     "slide_type": "slide"
    }
   },
   "source": [
    "# ACSE-3 (Numerical Methods) <a class=\"tocSkip\">\n",
    "\n",
    "## Coursework 3<a class=\"tocSkip\">"
   ]
  },
  {
   "cell_type": "markdown",
   "metadata": {
    "toc": true
   },
   "source": [
    "<h1>Table of Contents<span class=\"tocSkip\"></span></h1>\n",
    "<div class=\"toc\"><ul class=\"toc-item\"><li><span><a href=\"#Coursework\" data-toc-modified-id=\"Coursework-1\"><span class=\"toc-item-num\">1&nbsp;&nbsp;</span>Coursework</a></span><ul class=\"toc-item\"><li><span><a href=\"#Coursework-3A---Steady-state-advection-diffusion-with-the-FEM\" data-toc-modified-id=\"Coursework-3A---Steady-state-advection-diffusion-with-the-FEM-1.1\"><span class=\"toc-item-num\">1.1&nbsp;&nbsp;</span>Coursework 3A - Steady-state advection-diffusion with the FEM</a></span></li><li><span><a href=\"#Coursework-3B---Time-dependent-advection-diffusion-with-the-FEM\" data-toc-modified-id=\"Coursework-3B---Time-dependent-advection-diffusion-with-the-FEM-1.2\"><span class=\"toc-item-num\">1.2&nbsp;&nbsp;</span>Coursework 3B - Time-dependent advection-diffusion with the FEM</a></span></li><li><span><a href=\"#Coursework-3C---2D-mesh-optimisation\" data-toc-modified-id=\"Coursework-3C---2D-mesh-optimisation-1.3\"><span class=\"toc-item-num\">1.3&nbsp;&nbsp;</span>Coursework 3C - 2D mesh optimisation</a></span></li></ul></li></ul></div>"
   ]
  },
  {
   "cell_type": "markdown",
   "metadata": {},
   "source": [
    "# Instructions  <a class=\"tocSkip\">\n",
    "    \n",
    "\n",
    "- This is the third of three equally weighted pieces of assessed coursework for this module.\n",
    "\n",
    "\n",
    "- This is independent work, you cannot work in groups.\n",
    "\n",
    "\n",
    "- There are three questions below. **The first two are worth 30 marks each, the third 40 marks, hence a total of 100.**\n",
    "\n",
    "\n",
    "- You will be assessed on both your code as well as your supporting descriptions/discussions of the results you obtain.\n",
    "\n",
    "\n",
    "- Submit your solutions as Jupyter notebooks via Github classroom - please submit a version where you have run all cells and the output/plots etc are visible."
   ]
  },
  {
   "cell_type": "markdown",
   "metadata": {},
   "source": [
    "# Coursework"
   ]
  },
  {
   "cell_type": "markdown",
   "metadata": {},
   "source": [
    "## Coursework 3A - Steady-state advection-diffusion with the FEM\n",
    "\n",
    "\n",
    "\n",
    "[In this question we want to solve steady-state advection-diffusion. It's up to you whether your starting point is the (local) assembly based finite element solver with time-stepping we implemented in lecture 12 (you will need to include advection and turn it into a solver for the steady state version of the problem), or whether you start from the approach we used in lecture 11 where we solved for steady-state diffusion.]\n",
    "\n",
    "\n",
    "Using the finite element method\n",
    "formulate and solve the steady-state advection-diffusion (boundary value) problem with Dirichlet boundary conditions we considered in lecture 7.\n",
    "\n",
    "The difference to what we've seen before in our FEM codes is that you now need to discretise the advection term, which ultimately involves integrating basis functions multiplied by their derivatives over elements.\n",
    "\n",
    "Verify your implementation with a convergence with $\\Delta x$ analysis using the exact solution given by\n",
    "```Python\n",
    "def u_exact(x):\n",
    "    return CE * (np.exp(Pe * x / L) - 1) / (np.exp(Pe) - 1)\n",
    "```\n",
    "You can use the following parameters (using the notation of lecture 7)\n",
    "```Python\n",
    "kappa = 0.005\n",
    "L = 1\n",
    "Pe = 10\n",
    "U = Pe * kappa / L\n",
    "CE = 1\n",
    "```\n",
    "where `CE` is the Dirichlet BC value at the right hand boundary, the left hand boundary being a homogeneous Dirichlet condition.\n",
    "\n",
    "Do you observe the expected order of convergence?\n",
    "\n",
    "Finally, compare the errors in your solution against a corresponding finite difference solver. You may re-use code from lecture 7 for this.\n",
    "\n",
    "Throughout this question you may assume for simplicity a uniform mesh.\n",
    "\n",
    "\n",
    "*[**Hint:** your starting point for this might be the code we wrote in lecture 11 section 5.4 (\"Dealing with more complex BCs (Inhomogeneous Dirichlet)\"). You need to add in an extra contribution to the LHS corresponding to advection (cf. L11 homework 1.4 where we ended up adding a mass matrix when we solved the problem $u''+u=f$).  You will need to remember to also add in the appropriate extra advection related RHS terms corresponding to the boundary contributions (as was explained in the context of diffusion in section 5.4.2 of lecture 11).*\n",
    "\n",
    "*If you decide to use the assembly based approach from lecture 12 then in addition to adding advection you will need to think about how to turn the time-stepping solver into a steady state solver.*]"
   ]
  },
  {
   "cell_type": "markdown",
   "metadata": {},
   "source": [
    "## Coursework 3B - Time-dependent advection-diffusion with the FEM\n",
    "\n",
    "In this question we want to solve unsteady advection-diffusion.\n",
    "\n",
    "*[As for question 3A, it's up to you whether you seek to generalise the (local) assembly based finite element solver we implemented in lecture 12 to include advection, or the approach we used in lecture 11.]*\n",
    "\n",
    "\n",
    "Test your implementation using the same advection-diffusion of a Gaussian problem considered in Coursework 2 question 1 where an analytical solution to the problem was given.\n",
    "\n",
    "This time consider the (non-periodic) domain $[0,3]$ and you can assume homogeneous Neumann boundary conditions. Initialise the problem using the (Gaussian like) analytical solution from coursework 2 centred initially at $x=0.5$, and with an initial time for the purposes of evaluating the Gaussian function of $t=0.05$. Assume a velocity of 1 and a diffusivity of 0.01. Integrate the problem for a total time period of 1.\n",
    "\n",
    "Perform some experiments with different $\\Delta x$ and $\\Delta t$ values such that you can demonstrate the expected order of convergence in space and in time (for the time-stepping options of forward Euler, backward Euler and Crank-Nicolson). To do this I suggest you fix one of $\\Delta x$ or $\\Delta t$ and vary the other independently."
   ]
  },
  {
   "cell_type": "markdown",
   "metadata": {},
   "source": [
    "## Coursework 3C - 2D mesh optimisation\n",
    "\n",
    "In lecture 12 homework question 2 (\"Laplacian smoothing\") we implemented an algorithm which given a Delaunay triangulation applied \"Laplacian smoothing\" to the mesh in order to improve its quality.\n",
    "\n",
    "Let's assume we have a discretisation which prefers triangles which are closer to equilateral, i.e. it does not like angles in the mesh which are close to 0 or close to $\\pi$ (in radians). [NB. by angle we mean the angles between any two connected edges, equivalently each of the three angles making up every triangle]. \n",
    "\n",
    "Write some code which given a mesh computes all of the angles in the mesh.  Test it on the mesh given in the following cell by finding the maximum and minimum angles. Also plot a histogram of the angles.\n",
    "\n",
    "Next apply Laplacian smoothing to this mesh and confirm that the angles in the mesh have improved. You will notice that the example mesh given is in a circular domain. To preserve the geometry you should seek to preserve the locations of mesh vertices on this circular boundary.\n",
    "\n",
    "*[**Hint:** In the homework question when we looped over `for i in range(points.shape[0]-4):`  the \"`-4`\" was to account for the 4 corners in the square domain of that example. You will need to generalise this for the preservation of the vetices on the boundary of this circular domain example.]*"
   ]
  },
  {
   "cell_type": "code",
   "execution_count": 50,
   "metadata": {},
   "outputs": [
    {
     "name": "stdout",
     "output_type": "stream",
     "text": [
      "[[26 27  0]\n",
      " [25 26  0]\n",
      " [15  7 14]\n",
      " [ 7 15  1]\n",
      " [15  4 29]\n",
      " [30 15 29]\n",
      " [ 4 10  0]\n",
      " [10 25  0]\n",
      " [20 21  3]\n",
      " [20 13 39]\n",
      " [13 20  3]\n",
      " [21 22  3]\n",
      " [13  8 39]\n",
      " [ 7 17 14]\n",
      " [17  7  9]\n",
      " [ 8 17  9]\n",
      " [17  8 13]\n",
      " [32 15 31]\n",
      " [15 32  1]\n",
      " [ 7  6  9]\n",
      " [35  6  7]\n",
      " [27 28  0]\n",
      " [ 4 28 29]\n",
      " [28  4  0]\n",
      " [19 30 31]\n",
      " [15 19 31]\n",
      " [19 15 30]\n",
      " [15 18  4]\n",
      " [18 10  4]\n",
      " [18 15 14]\n",
      " [10 18 14]\n",
      " [37 38  9]\n",
      " [38  8  9]\n",
      " [ 8 38 39]\n",
      " [16 10 14]\n",
      " [17 16 14]\n",
      " [12 13  3]\n",
      " [12 17 13]\n",
      " [32 33  1]\n",
      " [ 7 33 34]\n",
      " [33  7  1]\n",
      " [ 2  7 34]\n",
      " [35  2 34]\n",
      " [ 2 35  7]\n",
      " [36 37  9]\n",
      " [ 6 36  9]\n",
      " [36  6 35]\n",
      " [11 16 17]\n",
      " [12 11 17]\n",
      " [ 5 12  3]\n",
      " [ 5 11 12]\n",
      " [22  5  3]\n",
      " [23  5 22]\n",
      " [ 5 23 24]\n",
      " [25  5 24]\n",
      " [10  5 25]\n",
      " [16  5 10]\n",
      " [11  5 16]]\n"
     ]
    },
    {
     "data": {
      "image/png": "[encoded data removed]",
      "text/plain": [
       "<Figure size 360x360 with 1 Axes>"
      ]
     },
     "metadata": {},
     "output_type": "display_data"
    }
   ],
   "source": [
    "%precision 6\n",
    "%matplotlib inline\n",
    "import numpy as np\n",
    "import matplotlib.pyplot as plt\n",
    "import scipy.interpolate as si\n",
    "import scipy.linalg as sl\n",
    "import scipy.sparse as sp\n",
    "import scipy.sparse.linalg as spla\n",
    "# the following allows us to plot triangles indicating convergence order\n",
    "from mpltools import annotation\n",
    "# as we're in 2D we will be doing some 3D plotting\n",
    "from mpl_toolkits.mplot3d import Axes3D\n",
    "# and using some colormaps\n",
    "from matplotlib import cm\n",
    "from pprint import pprint\n",
    "\n",
    "# some default font sizes for plots\n",
    "plt.rcParams['font.size'] = 12\n",
    "plt.rcParams['font.family'] = 'sans-serif'\n",
    "plt.rcParams['font.sans-serif'] = ['Arial', 'Dejavu Sans']\n",
    "\n",
    "points = np.array([[-5.80648777e-01,  4.58163020e-01],\n",
    "       [-4.49366978e-01, -8.78260592e-01],\n",
    "       [ 1.25344404e-01, -8.11594100e-01],\n",
    "       [ 6.59107579e-01,  4.40484354e-01],\n",
    "       [-4.50759558e-01,  2.28830048e-01],\n",
    "       [ 2.39877465e-01,  4.47880691e-01],\n",
    "       [ 5.57255517e-01, -8.12278273e-01],\n",
    "       [ 1.16512866e-01, -7.15055733e-01],\n",
    "       [ 8.74019766e-01, -3.69078360e-01],\n",
    "       [ 8.07618256e-01, -5.28387559e-01],\n",
    "       [-1.35044590e-01,  1.65036839e-01],\n",
    "       [ 2.64544176e-01,  1.66414371e-01],\n",
    "       [ 4.33723660e-01,  1.76408613e-01],\n",
    "       [ 5.07178633e-01,  1.81359072e-01],\n",
    "       [-6.36539072e-03, -4.40344606e-02],\n",
    "       [-3.27218295e-01, -1.94144945e-01],\n",
    "       [ 1.98845151e-01,  1.14897057e-01],\n",
    "       [ 3.42407131e-01,  1.38783108e-01],\n",
    "       [-1.47793003e-01, -5.74951448e-02],\n",
    "       [-8.43598091e-01, -4.37604895e-01],\n",
    "       [ 9.51056516e-01,  3.09016994e-01],\n",
    "       [ 8.09016994e-01,  5.87785252e-01],\n",
    "       [ 5.87785252e-01,  8.09016994e-01],\n",
    "       [ 3.09016994e-01,  9.51056516e-01],\n",
    "       [ 6.12323400e-17,  1.00000000e+00],\n",
    "       [-3.09016994e-01,  9.51056516e-01],\n",
    "       [-5.87785252e-01,  8.09016994e-01],\n",
    "       [-8.09016994e-01,  5.87785252e-01],\n",
    "       [-9.51056516e-01,  3.09016994e-01],\n",
    "       [-1.00000000e+00,  1.22464680e-16],\n",
    "       [-9.51056516e-01, -3.09016994e-01],\n",
    "       [-8.09016994e-01, -5.87785252e-01],\n",
    "       [-5.87785252e-01, -8.09016994e-01],\n",
    "       [-3.09016994e-01, -9.51056516e-01],\n",
    "       [-1.83697020e-16, -1.00000000e+00],\n",
    "       [ 3.09016994e-01, -9.51056516e-01],\n",
    "       [ 5.87785252e-01, -8.09016994e-01],\n",
    "       [ 8.09016994e-01, -5.87785252e-01],\n",
    "       [ 9.51056516e-01, -3.09016994e-01],\n",
    "       [ 1.00000000e+00, -2.44929360e-16]])\n",
    "\n",
    "from scipy.spatial import Delaunay\n",
    "\n",
    "tri = Delaunay(points)\n",
    "fig = plt.figure(figsize=(5, 5))\n",
    "ax1 = fig.add_subplot(111)\n",
    "\n",
    "ax1.triplot(points[:, 0], points[:, 1], tri.simplices)\n",
    "ax1.plot(points[:, 0], points[:, 1], 'o')\n",
    "\n",
    "print(tri.vertices)"
   ]
  },
  {
   "cell_type": "code",
   "execution_count": null,
   "metadata": {},
   "outputs": [],
   "source": []
  },
  {
   "cell_type": "code",
   "execution_count": 58,
   "metadata": {},
   "outputs": [
    {
     "name": "stdout",
     "output_type": "stream",
     "text": [
      "[15  7 14]\n",
      "[[-0.32721829 -0.19414495]\n",
      " [ 0.11651287 -0.71505573]\n",
      " [-0.00636539 -0.04403446]]\n",
      "0.6842845842901832 0.354231200929158 0.6821793121957461\n",
      "74.64687269687073 75.30463795380474 30.048489349324527\n",
      "180.0\n"
     ]
    }
   ],
   "source": [
    "tri.simplices\n",
    "print(tri.simplices[2,:])\n",
    "a = points[tri.simplices[2,:]]\n",
    "print(a)\n",
    "a[2,:]\n",
    "r = np.sqrt((a[0,0]-a[1,0])**2+(a[0,1]-a[1,1])**2)\n",
    "s = np.sqrt((a[0,0]-a[2,0])**2+(a[0,1]-a[2,1])**2)\n",
    "t = np.sqrt((a[1,0]-a[2,0])**2+(a[1,1]-a[2,1])**2)\n",
    "print(r,s,t)\n",
    "q = np.arccos((r**2 + s**2 - t**2)/(2*r*s))*(180/np.pi)\n",
    "v = np.arccos((s**2 + t**2 - r**2)/(2*t*s))*(180/np.pi)\n",
    "w = np.arccos((r**2 + t**2 - s**2)/(2*r*t))*(180/np.pi)\n",
    "print(q,v,w)\n",
    "print(q+v+w)"
   ]
  },
  {
   "cell_type": "code",
   "execution_count": 61,
   "metadata": {},
   "outputs": [
    {
     "ename": "SyntaxError",
     "evalue": "invalid syntax (<ipython-input-61-7945837b0012>, line 6)",
     "output_type": "error",
     "traceback": [
      "\u001b[1;36m  File \u001b[1;32m\"<ipython-input-61-7945837b0012>\"\u001b[1;36m, line \u001b[1;32m6\u001b[0m\n\u001b[1;33m    for k in range tri.simplices():\u001b[0m\n\u001b[1;37m                     ^\u001b[0m\n\u001b[1;31mSyntaxError\u001b[0m\u001b[1;31m:\u001b[0m invalid syntax\n"
     ]
    }
   ],
   "source": [
    "i = 1\n",
    "fir = []\n",
    "sec = []\n",
    "thir = []\n",
    "print(tri)\n",
    "for k in range tri.simplices():\n",
    "    a = points[k] \n",
    "    r = np.sqrt((a[0,0]-a[1,0])**2+(a[0,1]-a[1,1])**2)\n",
    "    s = np.sqrt((a[0,0]-a[2,0])**2+(a[0,1]-a[2,1])**2)\n",
    "    t = np.sqrt((a[1,0]-a[2,0])**2+(a[1,1]-a[2,1])**2)\n",
    "    q = np.arccos((r**2 + s**2 - t**2)/(2*r*s))*(180/np.pi)\n",
    "    v = np.arccos((s**2 + t**2 - r**2)/(2*t*s))*(180/np.pi)\n",
    "    w = np.arccos((r**2 + t**2 - s**2)/(2*r*t))*(180/np.pi)\n",
    "    fir.append(q)\n",
    "    sec.append(v)\n",
    "    thir.append(w)\n",
    "    print(q, v, w)"
   ]
  },
  {
   "cell_type": "code",
   "execution_count": null,
   "metadata": {},
   "outputs": [],
   "source": [
    "i = 1\n",
    "fir = []\n",
    "sec = []\n",
    "thir = []\n",
    "for k in range(tri.simplices.shape[0]):\n",
    "    a = tri.simplices[k,0]\n",
    "    b = tri.simplices[k,1]\n",
    "    c = tri.simplices[k,2]\n",
    "    [a1,a2] = points[a] \n",
    "    [b1,b2] = points[b] \n",
    "    [c1,c2] = points[c] \n",
    "    r = np.sqrt((a1-b1)**2+(a2-b2**2))\n",
    "    s = np.sqrt((a1-c1)**2+(a2-a[2,1]**2))\n",
    "    t = np.sqrt((a[1,0]-a[2,0])**2+(a[1,1]-a[2,1]**2))\n",
    "    q = np.arccos((r**2 + s**2 - t**2)/(2*r*s))*(180/np.pi)\n",
    "    v = np.arccos((s**2 + t**2 - r**2)/(2*t*s))*(180/np.pi)\n",
    "    w = np.arccos((r**2 + t**2 - s**2)/(2*r*t))*(180/np.pi)\n",
    "    #fir.append(q)\n",
    "    #sec.append(v)\n",
    "    #thir.append(w)\n",
    "    #print(q, v, w)"
   ]
  }
 ],
 "metadata": {
  "celltoolbar": "Slideshow",
  "kernelspec": {
   "display_name": "Python 3",
   "language": "python",
   "name": "python3"
  },
  "language_info": {
   "codemirror_mode": {
    "name": "ipython",
    "version": 3
   },
   "file_extension": ".py",
   "mimetype": "text/x-python",
   "name": "python",
   "nbconvert_exporter": "python",
   "pygments_lexer": "ipython3",
   "version": "3.6.5"
  },
  "latex_envs": {
   "LaTeX_envs_menu_present": true,
   "autoclose": false,
   "autocomplete": true,
   "bibliofile": "biblio.bib",
   "cite_by": "apalike",
   "current_citInitial": 1,
   "eqLabelWithNumbers": true,
   "eqNumInitial": 1,
   "hotkeys": {
    "equation": "Ctrl-E",
    "itemize": "Ctrl-I"
   },
   "labels_anchors": false,
   "latex_user_defs": false,
   "report_style_numbering": false,
   "user_envs_cfg": false
  },
  "toc": {
   "base_numbering": 1,
   "nav_menu": {},
   "number_sections": true,
   "sideBar": true,
   "skip_h1_title": false,
   "title_cell": "Table of Contents",
   "title_sidebar": "Contents",
   "toc_cell": true,
   "toc_position": {},
   "toc_section_display": true,
   "toc_window_display": false
  }
 },
 "nbformat": 4,
 "nbformat_minor": 1
}
